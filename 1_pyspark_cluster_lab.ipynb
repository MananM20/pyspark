{
  "cells": [
    {
      "cell_type": "code",
      "execution_count": 1,
      "id": "catholic-martin",
      "metadata": {
        "id": "catholic-martin",
        "outputId": "15733cc7-e1c6-4773-d8cb-6e4300f67ab5",
        "colab": {
          "base_uri": "https://localhost:8080/"
        }
      },
      "outputs": [
        {
          "output_type": "stream",
          "name": "stdout",
          "text": [
            "\u001b[2K     \u001b[90m━━━━━━━━━━━━━━━━━━━━━━━━━━━━━━━━━━━━━━━━\u001b[0m \u001b[32m316.9/316.9 MB\u001b[0m \u001b[31m2.1 MB/s\u001b[0m eta \u001b[36m0:00:00\u001b[0m\n",
            "\u001b[?25h  Preparing metadata (setup.py) ... \u001b[?25l\u001b[?25hdone\n",
            "  Building wheel for pyspark (setup.py) ... \u001b[?25l\u001b[?25hdone\n"
          ]
        }
      ],
      "source": [
        "!pip install pyspark --quiet\n",
        "!pip install -U -q PyDrive --quiet\n",
        "!apt install openjdk-8-jdk-headless &> /dev/null"
      ]
    },
    {
      "cell_type": "code",
      "execution_count": 2,
      "id": "broke-yahoo",
      "metadata": {
        "id": "broke-yahoo"
      },
      "outputs": [],
      "source": [
        "import os\n",
        "os.environ[\"JAVA_HOME\"] = \"/usr/lib/jvm/java-8-openjdk-amd64\""
      ]
    },
    {
      "cell_type": "code",
      "execution_count": 3,
      "id": "three-treasury",
      "metadata": {
        "id": "three-treasury"
      },
      "outputs": [],
      "source": [
        "from pyspark import SparkContext, SparkConf\n",
        "\n",
        "conf = SparkConf().set('spark.ui.port', '4050').setAppName(\"netflix\").setMaster(\"local[2]\")\n",
        "sc = SparkContext.getOrCreate(conf=conf)"
      ]
    },
    {
      "cell_type": "code",
      "execution_count": 4,
      "id": "falling-meeting",
      "metadata": {
        "id": "falling-meeting"
      },
      "outputs": [],
      "source": [
        "!wget https://bin.equinox.io/c/4VmDzA7iaHb/ngrok-stable-linux-amd64.zip &> /dev/null\n",
        "!unzip ngrok-stable-linux-amd64.zip &> /dev/null\n",
        "get_ipython().system_raw('./ngrok http 4050 &')"
      ]
    },
    {
      "cell_type": "code",
      "execution_count": 5,
      "id": "intelligent-prompt",
      "metadata": {
        "id": "intelligent-prompt",
        "outputId": "5e039a97-c1d7-499a-bab2-90ba1f28e0f6",
        "colab": {
          "base_uri": "https://localhost:8080/"
        }
      },
      "outputs": [
        {
          "output_type": "stream",
          "name": "stdout",
          "text": [
            "Traceback (most recent call last):\n",
            "  File \"<string>\", line 1, in <module>\n",
            "  File \"/usr/lib/python3.10/json/__init__.py\", line 293, in load\n",
            "    return loads(fp.read(),\n",
            "  File \"/usr/lib/python3.10/json/__init__.py\", line 346, in loads\n",
            "    return _default_decoder.decode(s)\n",
            "  File \"/usr/lib/python3.10/json/decoder.py\", line 337, in decode\n",
            "    obj, end = self.raw_decode(s, idx=_w(s, 0).end())\n",
            "  File \"/usr/lib/python3.10/json/decoder.py\", line 355, in raw_decode\n",
            "    raise JSONDecodeError(\"Expecting value\", s, err.value) from None\n",
            "json.decoder.JSONDecodeError: Expecting value: line 1 column 1 (char 0)\n"
          ]
        }
      ],
      "source": [
        "!curl -s http://localhost:4040/api/tunnels | python3 -c \\\n",
        "    \"import sys, json; print(json.load(sys.stdin)['tunnels'][0]['public_url'])\""
      ]
    },
    {
      "cell_type": "code",
      "execution_count": 6,
      "id": "introductory-imaging",
      "metadata": {
        "id": "introductory-imaging",
        "outputId": "ce3b8533-3cfc-4709-977a-7854895662c0",
        "colab": {
          "base_uri": "https://localhost:8080/",
          "height": 196
        }
      },
      "outputs": [
        {
          "output_type": "execute_result",
          "data": {
            "text/plain": [
              "<SparkContext master=local[2] appName=netflix>"
            ],
            "text/html": [
              "\n",
              "        <div>\n",
              "            <p><b>SparkContext</b></p>\n",
              "\n",
              "            <p><a href=\"http://bb206959ec12:4050\">Spark UI</a></p>\n",
              "\n",
              "            <dl>\n",
              "              <dt>Version</dt>\n",
              "                <dd><code>v3.5.0</code></dd>\n",
              "              <dt>Master</dt>\n",
              "                <dd><code>local[2]</code></dd>\n",
              "              <dt>AppName</dt>\n",
              "                <dd><code>netflix</code></dd>\n",
              "            </dl>\n",
              "        </div>\n",
              "        "
            ]
          },
          "metadata": {},
          "execution_count": 6
        }
      ],
      "source": [
        "sc"
      ]
    },
    {
      "cell_type": "code",
      "source": [
        "import pyspark as spark\n",
        "from pyspark.sql import SparkSession"
      ],
      "metadata": {
        "id": "k9nqCU41AMdW"
      },
      "id": "k9nqCU41AMdW",
      "execution_count": 38,
      "outputs": []
    },
    {
      "cell_type": "code",
      "source": [
        "spark = SparkSession.builder.master(\"local\").appName(\"Search\").config(conf=SparkConf()).getOrCreate()"
      ],
      "metadata": {
        "id": "EfxierfAA8-2"
      },
      "id": "EfxierfAA8-2",
      "execution_count": 39,
      "outputs": []
    },
    {
      "cell_type": "code",
      "source": [
        "from pyspark.sql.types import StructType,StructField, StringType, IntegerType\n",
        "mschema = StructType([ \\\n",
        "    StructField(\"name\",StringType(),True), \\\n",
        "    StructField(\"age\", IntegerType(), True), \\\n",
        "    StructField(\"city\", StringType(), True) \\\n",
        "  ])\n",
        "\n"
      ],
      "metadata": {
        "id": "pGGc_uoJ-Sb7"
      },
      "id": "pGGc_uoJ-Sb7",
      "execution_count": 40,
      "outputs": []
    },
    {
      "cell_type": "code",
      "source": [
        "mdata=[('jenny',25,'delhi'),\n",
        "('jack',90,'pune'),\n",
        "('jill',45,'delhi'),\n",
        "('john',30,'pune')]"
      ],
      "metadata": {
        "id": "3DTQs7bU3jha"
      },
      "id": "3DTQs7bU3jha",
      "execution_count": 41,
      "outputs": []
    },
    {
      "cell_type": "code",
      "source": [
        "df = spark.createDataFrame(data=mdata,schema=mschema)\n",
        "df.printSchema()\n",
        "df.show(truncate=False)"
      ],
      "metadata": {
        "id": "pMnfdqK654RM",
        "outputId": "85084dfe-0b24-461d-c944-71187b628805",
        "colab": {
          "base_uri": "https://localhost:8080/"
        }
      },
      "id": "pMnfdqK654RM",
      "execution_count": 42,
      "outputs": [
        {
          "output_type": "stream",
          "name": "stdout",
          "text": [
            "root\n",
            " |-- name: string (nullable = true)\n",
            " |-- age: integer (nullable = true)\n",
            " |-- city: string (nullable = true)\n",
            "\n",
            "+-----+---+-----+\n",
            "|name |age|city |\n",
            "+-----+---+-----+\n",
            "|jenny|25 |delhi|\n",
            "|jack |90 |pune |\n",
            "|jill |45 |delhi|\n",
            "|john |30 |pune |\n",
            "+-----+---+-----+\n",
            "\n"
          ]
        }
      ]
    },
    {
      "cell_type": "code",
      "source": [
        "pdata=[(101,'Alice','Smith',30),\n",
        "(102,'Bob','Johnson',45),\n",
        "(103,'Charlie','Williams',50)]"
      ],
      "metadata": {
        "id": "KnCL1C_g6S4F"
      },
      "id": "KnCL1C_g6S4F",
      "execution_count": 43,
      "outputs": []
    },
    {
      "cell_type": "code",
      "source": [
        "pschema = StructType([ \\\n",
        "    StructField(\"Pid\",IntegerType(),True), \\\n",
        "    StructField(\"Fname\", StringType(), True), \\\n",
        "    StructField(\"Lname\", StringType(), True),\\\n",
        "    StructField(\"age\", IntegerType(), True)\\\n",
        "  ])"
      ],
      "metadata": {
        "id": "RJaPx3B7C4t6"
      },
      "id": "RJaPx3B7C4t6",
      "execution_count": 44,
      "outputs": []
    },
    {
      "cell_type": "code",
      "source": [
        "df1 = spark.createDataFrame(data=pdata,schema=pschema)\n",
        "df1.printSchema()\n",
        "df1.show(truncate=False)"
      ],
      "metadata": {
        "id": "2M9jrI5uDVBG",
        "outputId": "4c579965-0c74-462c-a1fc-b15b558439e3",
        "colab": {
          "base_uri": "https://localhost:8080/"
        }
      },
      "id": "2M9jrI5uDVBG",
      "execution_count": 46,
      "outputs": [
        {
          "output_type": "stream",
          "name": "stdout",
          "text": [
            "root\n",
            " |-- Pid: integer (nullable = true)\n",
            " |-- Fname: string (nullable = true)\n",
            " |-- Lname: string (nullable = true)\n",
            " |-- age: integer (nullable = true)\n",
            "\n",
            "+---+-------+--------+---+\n",
            "|Pid|Fname  |Lname   |age|\n",
            "+---+-------+--------+---+\n",
            "|101|Alice  |Smith   |30 |\n",
            "|102|Bob    |Johnson |45 |\n",
            "|103|Charlie|Williams|50 |\n",
            "+---+-------+--------+---+\n",
            "\n"
          ]
        }
      ]
    },
    {
      "cell_type": "code",
      "source": [
        "vdata=[(1,101,15),\n",
        "(2,101,30),\n",
        "(3,102,45),\n",
        "(4,102,30),\n",
        "(5,103,60),\n",
        "(6,103,50)]"
      ],
      "metadata": {
        "id": "P20RgoT4DXY5"
      },
      "id": "P20RgoT4DXY5",
      "execution_count": 47,
      "outputs": []
    },
    {
      "cell_type": "code",
      "source": [
        "pschema = StructType([ \\\n",
        "    StructField(\"Vid\",IntegerType(),True), \\\n",
        "    StructField(\"\", StringType(), True), \\\n",
        "    StructField(\"Lname\", StringType(), True),\\\n",
        "    StructField(\"age\", IntegerType(), True)\\\n",
        "  ])"
      ],
      "metadata": {
        "id": "czhbRxgsD19B"
      },
      "id": "czhbRxgsD19B",
      "execution_count": null,
      "outputs": []
    }
  ],
  "metadata": {
    "kernelspec": {
      "display_name": "Python 3",
      "language": "python",
      "name": "python3"
    },
    "language_info": {
      "codemirror_mode": {
        "name": "ipython",
        "version": 3
      },
      "file_extension": ".py",
      "mimetype": "text/x-python",
      "name": "python",
      "nbconvert_exporter": "python",
      "pygments_lexer": "ipython3",
      "version": "3.8.6"
    },
    "colab": {
      "provenance": [],
      "toc_visible": true
    }
  },
  "nbformat": 4,
  "nbformat_minor": 5
}